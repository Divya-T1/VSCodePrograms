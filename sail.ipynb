{
  "metadata": {
    "kernelspec": {
      "name": "python",
      "display_name": "Python (Pyodide)",
      "language": "python"
    },
    "language_info": {
      "codemirror_mode": {
        "name": "python",
        "version": 3
      },
      "file_extension": ".py",
      "mimetype": "text/x-python",
      "name": "python",
      "nbconvert_exporter": "python",
      "pygments_lexer": "ipython3",
      "version": "3.8"
    },
    "colab": {
      "provenance": []
    }
  },
  "nbformat_minor": 0,
  "nbformat": 4,
  "cells": [
    {
      "cell_type": "markdown",
      "source": [
        "# Welcome to Intro to Data Structures!\n",
        "## This notebook is going to be used to show you some python versions of the different data structures we're talking about today."
      ],
      "metadata": {
        "id": "QH9xwyFFn4xn"
      }
    },
    {
      "cell_type": "markdown",
      "source": [
        "### Linear Arrays"
      ],
      "metadata": {
        "id": "un1JLcPen4xp"
      }
    },
    {
      "cell_type": "code",
      "source": [
        "# Example 1: List of students in a class\n",
        "student_list = [\"Alice\", \"Bob\", \"Charlie\", \"Daniel\"]\n",
        "\n",
        "# Example 2: List of grade avereges corresponding to above students\n",
        "grade_list = [99.7, 85.4, 96.7, 89.5]\n",
        "\n",
        "# Example 3: List of number of students present throughout a week\n",
        "attendence_list = [4, 3, 4, 2, 4]\n",
        "\n",
        "print( student_list, \"\\n\", grade_list, \"\\n\", attendence_list )"
      ],
      "metadata": {
        "trusted": true,
        "id": "o06kPoo5n4xp",
        "outputId": "d2e56c57-2fd4-4e4e-bd98-76884c721346"
      },
      "outputs": [
        {
          "name": "stdout",
          "text": "['Alice', 'Bob', 'Charlie', 'Daniel'] \n [99.7, 85.4, 96.7, 89.5] \n [4, 3, 4, 2, 4]\n",
          "output_type": "stream"
        }
      ],
      "execution_count": null
    },
    {
      "cell_type": "code",
      "source": [
        "simple_lst = [\"abc\", \"d\", 3.14]\n",
        "twoD_list = [[\"x\", \"o\", \"-\"],\n",
        "\t\t\t\t\t\t [\"o\", \"x\", \"-\"],\n",
        "\t\t\t\t\t\t [\"-\", \"-\", \"x\"]]\n",
        "\n",
        "# Get First element\n",
        "print(simple_lst[0])\n",
        "print(twoD_list[0][0])\n",
        "# Get last element\n",
        "print(simple_lst[-1])\n",
        "# OR\n",
        "print(simple_lst[2])\n"
      ],
      "metadata": {
        "trusted": true,
        "id": "2Z-JucuHn4xr",
        "outputId": "97207060-2347-433f-e099-88cf2faa0c16"
      },
      "outputs": [
        {
          "name": "stdout",
          "text": "abc\nx\n3.14\n3.14\n",
          "output_type": "stream"
        }
      ],
      "execution_count": null
    },
    {
      "cell_type": "markdown",
      "source": [
        "Try this yourself! Make a grocery list of all your favorite foods! Then print out every element of the list using the print function we used above."
      ],
      "metadata": {
        "id": "Dreciylwn4xs"
      }
    },
    {
      "cell_type": "code",
      "source": [
        "grocery_list = ...\n",
        "print(...)"
      ],
      "metadata": {
        "trusted": true,
        "id": "76E0Zqf8n4xs",
        "outputId": "40ab6c6f-50ba-4a39-e461-d99871a0147d"
      },
      "outputs": [
        {
          "name": "stdout",
          "text": "Ellipsis\n",
          "output_type": "stream"
        }
      ],
      "execution_count": null
    },
    {
      "cell_type": "markdown",
      "source": [
        "### Stacks"
      ],
      "metadata": {
        "id": "mL2gJxbSn4xt"
      }
    },
    {
      "cell_type": "code",
      "source": [
        "stacc = []\n",
        "\n",
        "# insert elements\n",
        "stacc.append(1)\n",
        "print(stacc)\n",
        "stacc.append(2)\n",
        "print(stacc)\n",
        "stacc.append(3)\n",
        "print(stacc)\n",
        "stacc.append(4)\n",
        "print(stacc)\n",
        "\n",
        "# remove elements\n",
        "stacc.pop() # 2\n",
        "print(stacc)\n",
        "stacc.pop() # 1\n",
        "print(stacc)"
      ],
      "metadata": {
        "trusted": true,
        "id": "R5qpUUCHn4xt",
        "outputId": "3f731938-e6aa-49e3-f833-4545e5f49190",
        "colab": {
          "base_uri": "https://localhost:8080/"
        }
      },
      "outputs": [
        {
          "output_type": "stream",
          "name": "stdout",
          "text": [
            "[1]\n",
            "[1, 2]\n",
            "[1, 2, 3]\n",
            "[1, 2, 3, 4]\n",
            "[1, 2, 3]\n",
            "[1, 2]\n"
          ]
        }
      ],
      "execution_count": null
    },
    {
      "cell_type": "markdown",
      "source": [
        "### Queue"
      ],
      "metadata": {
        "id": "SrB80GLen4xt"
      }
    },
    {
      "cell_type": "code",
      "source": [
        "queue = []\n",
        "\n",
        "# insert elements\n",
        "queue.append(1)\n",
        "print(queue)\n",
        "queue.append(2)\n",
        "print(queue)\n",
        "queue.append(3)\n",
        "print(queue)\n",
        "queue.append(4)\n",
        "print(queue)\n",
        "\n",
        "# remove elements\n",
        "queue.pop(0) # 1\n",
        "print(queue)\n",
        "queue.pop(0) # 2\n",
        "print(queue)"
      ],
      "metadata": {
        "trusted": true,
        "id": "bRSOxELQn4xt",
        "outputId": "e977f2a6-d055-46dd-d62e-2152abbbe8a7",
        "colab": {
          "base_uri": "https://localhost:8080/"
        }
      },
      "outputs": [
        {
          "output_type": "stream",
          "name": "stdout",
          "text": [
            "[1]\n",
            "[1, 2]\n",
            "[1, 2, 3]\n",
            "[1, 2, 3, 4]\n",
            "[2, 3, 4]\n",
            "[3, 4]\n"
          ]
        }
      ],
      "execution_count": null
    },
    {
      "cell_type": "markdown",
      "source": [
        "###Hash Maps\n"
      ],
      "metadata": {
        "id": "nCp1IGImpwQa"
      }
    },
    {
      "cell_type": "code",
      "source": [
        "map = { \"a\" : 3, \"b\" : 5, \"c\" : 8}\n",
        "\n",
        "# Find the value corresponding to a key\n",
        "if \"a\" in map:\n",
        "  print(map[\"a\"])\n",
        "\n",
        "# Add to the map\n",
        "map[\"d\"] = 9\n",
        "print(map)\n",
        "\n",
        "# Delete from map\n",
        "del(map[\"a\"])\n",
        "print(map)\n"
      ],
      "metadata": {
        "colab": {
          "base_uri": "https://localhost:8080/"
        },
        "id": "WQucxo5RpynQ",
        "outputId": "f5067bc2-221e-432a-d9de-989eed0c63a0"
      },
      "execution_count": null,
      "outputs": [
        {
          "output_type": "stream",
          "name": "stdout",
          "text": [
            "3\n",
            "{'a': 3, 'b': 5, 'c': 8, 'd': 9}\n",
            "{'b': 5, 'c': 8, 'd': 9}\n"
          ]
        }
      ]
    },
    {
      "cell_type": "markdown",
      "source": [
        "Your turn! First, let's add Alex's inventory levels to an empty dictionary. Look at the above example if you need a reminder on how to do so.\n",
        "\n",
        "Alex starts off with 54 apples, 75 pears, 32 mangos, and 80 watermelons."
      ],
      "metadata": {
        "id": "GjgD7OXhqLUT"
      }
    },
    {
      "cell_type": "code",
      "source": [
        "alex_inv = {}\n",
        "\n",
        "# your code here"
      ],
      "metadata": {
        "id": "b3G6GeTKqW88"
      },
      "execution_count": null,
      "outputs": []
    },
    {
      "cell_type": "markdown",
      "source": [
        "Now let's update some of those numbers for him. This week, he sold 5 apples, 10 pears, 15 mangos, and 20 watermelons. We'll do the first one for you."
      ],
      "metadata": {
        "id": "_iHg_c09qe9G"
      }
    },
    {
      "cell_type": "code",
      "source": [
        "alex_inv[\"apples\"] = alex_inv[\"apples\"] - 5\n",
        "\n",
        "# your code here"
      ],
      "metadata": {
        "id": "OoLuTpa-rHp8"
      },
      "execution_count": null,
      "outputs": []
    },
    {
      "cell_type": "markdown",
      "source": [
        "Now let's print out all of those inventory levels for him using the method displayed above to find values for certain keys"
      ],
      "metadata": {
        "id": "KwN_XapnrlXd"
      }
    },
    {
      "cell_type": "code",
      "source": [
        "print()"
      ],
      "metadata": {
        "id": "orQ0wsQ4ruUb"
      },
      "execution_count": null,
      "outputs": []
    },
    {
      "cell_type": "markdown",
      "source": [
        "## Graphs"
      ],
      "metadata": {
        "id": "3JAR0ih-73zV"
      }
    },
    {
      "cell_type": "code",
      "source": [
        "class DirectedGraph:\n",
        "  def __init__(self):\n",
        "    self.edges = {}\n",
        "\n",
        "  def addEdge(self, fromNode, toNode):\n",
        "    self.addNode(fromNode)\n",
        "    self.addNode(toNode)\n",
        "    self.edges[fromNode].add(toNode)\n",
        "\n",
        "  def addNode(self, node):\n",
        "    if node not in self.edges:\n",
        "      self.edges[node] = set()"
      ],
      "metadata": {
        "id": "8OceLqoT77r-"
      },
      "execution_count": 1,
      "outputs": []
    },
    {
      "cell_type": "code",
      "source": [
        "graph = DirectedGraph()\n",
        "\n",
        "graph.addEdge('a', 'b')\n",
        "graph.addEdge('b', 'c')\n",
        "graph.addEdge('a', 'c')"
      ],
      "metadata": {
        "id": "6EoU15tj8-zu"
      },
      "execution_count": 2,
      "outputs": []
    },
    {
      "cell_type": "markdown",
      "source": [
        "Try it yourself! Use this interactive graph editor to re-create the graph on the slide:\n",
        "\n",
        "https://csacademy.com/app/graph_editor/"
      ],
      "metadata": {
        "id": "NKcP2L3iAJbW"
      }
    },
    {
      "cell_type": "code",
      "source": [],
      "metadata": {
        "id": "9PgzTCFo-CHP"
      },
      "execution_count": null,
      "outputs": []
    }
  ]
}